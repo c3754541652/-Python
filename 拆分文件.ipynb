{
 "cells": [
  {
   "cell_type": "code",
   "execution_count": 6,
   "metadata": {},
   "outputs": [
    {
     "name": "stdout",
     "output_type": "stream",
     "text": [
      "保存第0个数据\n",
      "保存第1个数据\n",
      "保存第2个数据\n",
      "保存第3个数据\n"
     ]
    }
   ],
   "source": [
    "#-*- coding:utf-8 -*-\n",
    "#author:chenpeng\n",
    "#date: 2017-11-07\n",
    "#作用：根据需要拆分的文件数，拆分文件\n",
    "#备注：可以拆分csv格式文件和txt格式文件，返回的数据均是没有表头\n",
    "import os\n",
    "import pandas as pd\n",
    "\n",
    "def file_split(filename, file_num, header=True, rows = False):\n",
    "    #根据是否有表头执行不同程序，默认是否表头的\n",
    "    if header:\n",
    "        # 获得每个文件需要有的行数\n",
    "        chunksize = 1000000   #先初始化的chunksize是100W\n",
    "        data1 = pd.read_table(filename, chunksize = chunksize, sep=',', encoding='gbk') \n",
    "        num = 0\n",
    "        for chunk in data1:\n",
    "            num += len(chunk)\n",
    "        \n",
    "        #用于判断是否有限制行数\n",
    "        if rows:\n",
    "            chunksize = rows \n",
    "        else:\n",
    "            chunksize = round(num / file_num + 1)\n",
    "\n",
    "        # 需要存的file\n",
    "        head, tail = os.path.splitext(filename)\n",
    "        data2 = pd.read_table(filename, chunksize = chunksize, sep=',', encoding='gbk')\n",
    "        i = 0 #定文件名\n",
    "        for chunk in data2:\n",
    "            chunk.to_csv('{0}_{1}{2}'.format(head, i, tail),header=None,index=False)\n",
    "            print('保存第{0}个数据'.format(i))\n",
    "            i += 1\n",
    "    else:\n",
    "        # 获得每个文件需要有的行数\n",
    "        chunksize = 1000000   #先初始化的chunksize是100W\n",
    "        data1 = pd.read_table(filename, chunksize = chunksize ,header=None, sep=',') \n",
    "        num = 0\n",
    "        for chunk in data1:\n",
    "            num += len(chunk)\n",
    "        #用于判断是否有限制行数\n",
    "        if rows:\n",
    "            chunksize = rows \n",
    "        else:\n",
    "            chunksize = round(num / file_num + 1)\n",
    "\n",
    "        # 需要存的file\n",
    "        head, tail = os.path.splitext(filename)\n",
    "        data2 = pd.read_table(filename, chunksize = chunksize ,header=None, sep=',')\n",
    "        i = 0 #定文件名\n",
    "        for chunk in data2:\n",
    "            chunk.to_csv('{0}_{1}{2}'.format(head, i, tail),header=None,index=False)\n",
    "            print('保存第{0}个数据'.format(i))\n",
    "            i += 1\n",
    "    \n",
    "if __name__ == '__main__':\n",
    "    filename = 'C:\\\\Users\\\\chenpeng23\\\\Desktop\\\\user_id_for_survey_2.txt'\n",
    "    file_split(filename, 4,  header=False, rows= 1000000)"
   ]
  },
  {
   "cell_type": "code",
   "execution_count": null,
   "metadata": {
    "collapsed": true
   },
   "outputs": [],
   "source": []
  }
 ],
 "metadata": {
  "kernelspec": {
   "display_name": "Python 3",
   "language": "python",
   "name": "python3"
  },
  "language_info": {
   "codemirror_mode": {
    "name": "ipython",
    "version": 3
   },
   "file_extension": ".py",
   "mimetype": "text/x-python",
   "name": "python",
   "nbconvert_exporter": "python",
   "pygments_lexer": "ipython3",
   "version": "3.6.1"
  }
 },
 "nbformat": 4,
 "nbformat_minor": 2
}
